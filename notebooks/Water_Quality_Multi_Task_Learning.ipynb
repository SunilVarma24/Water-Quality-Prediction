{
 "cells": [
  {
   "cell_type": "code",
   "execution_count": null,
   "metadata": {
    "execution": {
     "iopub.execute_input": "2025-03-02T05:03:11.550386Z",
     "iopub.status.busy": "2025-03-02T05:03:11.550082Z",
     "iopub.status.idle": "2025-03-02T05:03:15.473769Z",
     "shell.execute_reply": "2025-03-02T05:03:15.473039Z",
     "shell.execute_reply.started": "2025-03-02T05:03:11.550362Z"
    },
    "id": "MC4-SIBYxPyV"
   },
   "outputs": [],
   "source": [
    "import numpy as np\n",
    "import pandas as pd\n",
    "import seaborn as sns\n",
    "import matplotlib.pyplot as plt\n",
    "import torch\n",
    "import torch.nn as nn\n",
    "import torch.optim as optim\n",
    "from torch.utils.data import Dataset, DataLoader\n",
    "from sklearn.model_selection import train_test_split\n",
    "from sklearn.preprocessing import StandardScaler, LabelEncoder\n",
    "from sklearn.metrics import r2_score, accuracy_score, f1_score\n",
    "from sklearn.metrics import confusion_matrix, classification_report\n",
    "\n",
    "import warnings\n",
    "warnings.filterwarnings(\"ignore\")"
   ]
  },
  {
   "cell_type": "code",
   "execution_count": 3,
   "metadata": {
    "colab": {
     "base_uri": "https://localhost:8080/",
     "height": 342
    },
    "execution": {
     "iopub.execute_input": "2025-03-02T05:03:19.640659Z",
     "iopub.status.busy": "2025-03-02T05:03:19.640168Z",
     "iopub.status.idle": "2025-03-02T05:03:19.806396Z",
     "shell.execute_reply": "2025-03-02T05:03:19.805631Z",
     "shell.execute_reply.started": "2025-03-02T05:03:19.640630Z"
    },
    "id": "vhabwtDI5uyl",
    "outputId": "157c8c35-d0d1-4aaf-ccef-636935948799"
   },
   "outputs": [
    {
     "data": {
      "text/html": [
       "<div>\n",
       "<style scoped>\n",
       "    .dataframe tbody tr th:only-of-type {\n",
       "        vertical-align: middle;\n",
       "    }\n",
       "\n",
       "    .dataframe tbody tr th {\n",
       "        vertical-align: top;\n",
       "    }\n",
       "\n",
       "    .dataframe thead th {\n",
       "        text-align: right;\n",
       "    }\n",
       "</style>\n",
       "<table border=\"1\" class=\"dataframe\">\n",
       "  <thead>\n",
       "    <tr style=\"text-align: right;\">\n",
       "      <th></th>\n",
       "      <th>Well_ID</th>\n",
       "      <th>State</th>\n",
       "      <th>District</th>\n",
       "      <th>Block</th>\n",
       "      <th>Village</th>\n",
       "      <th>Latitude</th>\n",
       "      <th>Longitude</th>\n",
       "      <th>Year</th>\n",
       "      <th>pH</th>\n",
       "      <th>EC</th>\n",
       "      <th>...</th>\n",
       "      <th>NO3</th>\n",
       "      <th>TH</th>\n",
       "      <th>Ca</th>\n",
       "      <th>Mg</th>\n",
       "      <th>Na</th>\n",
       "      <th>K</th>\n",
       "      <th>F</th>\n",
       "      <th>TDS</th>\n",
       "      <th>WQI</th>\n",
       "      <th>Water Quality Classification</th>\n",
       "    </tr>\n",
       "  </thead>\n",
       "  <tbody>\n",
       "    <tr>\n",
       "      <th>0</th>\n",
       "      <td>W232200071580001</td>\n",
       "      <td>Gujarat</td>\n",
       "      <td>Ahmedabad</td>\n",
       "      <td>Mandal</td>\n",
       "      <td>Dalod</td>\n",
       "      <td>NaN</td>\n",
       "      <td>NaN</td>\n",
       "      <td>2020</td>\n",
       "      <td>8.20</td>\n",
       "      <td>16640.0</td>\n",
       "      <td>...</td>\n",
       "      <td>26.00</td>\n",
       "      <td>1451.0</td>\n",
       "      <td>152.0</td>\n",
       "      <td>260.0</td>\n",
       "      <td>3535.0</td>\n",
       "      <td>45.0</td>\n",
       "      <td>1.00</td>\n",
       "      <td>11149</td>\n",
       "      <td>4361.44080</td>\n",
       "      <td>Unsuitable for Drinking</td>\n",
       "    </tr>\n",
       "    <tr>\n",
       "      <th>1</th>\n",
       "      <td>W254029084355301</td>\n",
       "      <td>Himachal Pradesh</td>\n",
       "      <td>Solan</td>\n",
       "      <td>Nallagarh</td>\n",
       "      <td>JAGATPUR</td>\n",
       "      <td>31.1594</td>\n",
       "      <td>76.678500</td>\n",
       "      <td>2019</td>\n",
       "      <td>8.44</td>\n",
       "      <td>299.0</td>\n",
       "      <td>...</td>\n",
       "      <td>2.70</td>\n",
       "      <td>84.0</td>\n",
       "      <td>17.0</td>\n",
       "      <td>10.0</td>\n",
       "      <td>39.0</td>\n",
       "      <td>2.4</td>\n",
       "      <td>0.20</td>\n",
       "      <td>262</td>\n",
       "      <td>85.80466</td>\n",
       "      <td>Good</td>\n",
       "    </tr>\n",
       "    <tr>\n",
       "      <th>2</th>\n",
       "      <td>W193530074180001</td>\n",
       "      <td>Maharashtra</td>\n",
       "      <td>Ahmednagar</td>\n",
       "      <td>SANGAMNER</td>\n",
       "      <td>Kokangaon</td>\n",
       "      <td>74.3000</td>\n",
       "      <td>19.591667</td>\n",
       "      <td>2022</td>\n",
       "      <td>7.90</td>\n",
       "      <td>1315.0</td>\n",
       "      <td>...</td>\n",
       "      <td>18.20</td>\n",
       "      <td>465.0</td>\n",
       "      <td>80.2</td>\n",
       "      <td>64.4</td>\n",
       "      <td>88.3</td>\n",
       "      <td>1.6</td>\n",
       "      <td>0.53</td>\n",
       "      <td>372</td>\n",
       "      <td>280.04130</td>\n",
       "      <td>Very Poor yet Drinkable</td>\n",
       "    </tr>\n",
       "    <tr>\n",
       "      <th>3</th>\n",
       "      <td>W231620072033001</td>\n",
       "      <td>Gujarat</td>\n",
       "      <td>Ahmedabad</td>\n",
       "      <td>Viramgam</td>\n",
       "      <td>Endla</td>\n",
       "      <td>NaN</td>\n",
       "      <td>NaN</td>\n",
       "      <td>2020</td>\n",
       "      <td>7.40</td>\n",
       "      <td>715.0</td>\n",
       "      <td>...</td>\n",
       "      <td>0.23</td>\n",
       "      <td>280.0</td>\n",
       "      <td>56.0</td>\n",
       "      <td>34.0</td>\n",
       "      <td>47.0</td>\n",
       "      <td>11.0</td>\n",
       "      <td>0.46</td>\n",
       "      <td>479</td>\n",
       "      <td>195.11649</td>\n",
       "      <td>Poor</td>\n",
       "    </tr>\n",
       "    <tr>\n",
       "      <th>4</th>\n",
       "      <td>W251908084361501</td>\n",
       "      <td>Himachal Pradesh</td>\n",
       "      <td>Solan</td>\n",
       "      <td>Nallagarh</td>\n",
       "      <td>BARUNA</td>\n",
       "      <td>31.1540</td>\n",
       "      <td>76.638400</td>\n",
       "      <td>2019</td>\n",
       "      <td>8.40</td>\n",
       "      <td>270.0</td>\n",
       "      <td>...</td>\n",
       "      <td>10.00</td>\n",
       "      <td>116.0</td>\n",
       "      <td>10.0</td>\n",
       "      <td>18.0</td>\n",
       "      <td>23.0</td>\n",
       "      <td>1.0</td>\n",
       "      <td>0.12</td>\n",
       "      <td>262</td>\n",
       "      <td>81.77860</td>\n",
       "      <td>Good</td>\n",
       "    </tr>\n",
       "  </tbody>\n",
       "</table>\n",
       "<p>5 rows × 24 columns</p>\n",
       "</div>"
      ],
      "text/plain": [
       "            Well_ID             State    District      Block    Village  \\\n",
       "0  W232200071580001           Gujarat   Ahmedabad     Mandal      Dalod   \n",
       "1  W254029084355301  Himachal Pradesh       Solan  Nallagarh   JAGATPUR   \n",
       "2  W193530074180001       Maharashtra  Ahmednagar  SANGAMNER  Kokangaon   \n",
       "3  W231620072033001           Gujarat   Ahmedabad   Viramgam      Endla   \n",
       "4  W251908084361501  Himachal Pradesh       Solan  Nallagarh     BARUNA   \n",
       "\n",
       "   Latitude  Longitude  Year    pH       EC  ...    NO3      TH     Ca     Mg  \\\n",
       "0       NaN        NaN  2020  8.20  16640.0  ...  26.00  1451.0  152.0  260.0   \n",
       "1   31.1594  76.678500  2019  8.44    299.0  ...   2.70    84.0   17.0   10.0   \n",
       "2   74.3000  19.591667  2022  7.90   1315.0  ...  18.20   465.0   80.2   64.4   \n",
       "3       NaN        NaN  2020  7.40    715.0  ...   0.23   280.0   56.0   34.0   \n",
       "4   31.1540  76.638400  2019  8.40    270.0  ...  10.00   116.0   10.0   18.0   \n",
       "\n",
       "       Na     K     F    TDS         WQI  Water Quality Classification  \n",
       "0  3535.0  45.0  1.00  11149  4361.44080       Unsuitable for Drinking  \n",
       "1    39.0   2.4  0.20    262    85.80466                          Good  \n",
       "2    88.3   1.6  0.53    372   280.04130       Very Poor yet Drinkable  \n",
       "3    47.0  11.0  0.46    479   195.11649                          Poor  \n",
       "4    23.0   1.0  0.12    262    81.77860                          Good  \n",
       "\n",
       "[5 rows x 24 columns]"
      ]
     },
     "execution_count": 3,
     "metadata": {},
     "output_type": "execute_result"
    }
   ],
   "source": [
    "# Load dataset\n",
    "df = pd.read_csv(\"/kaggle/input/water-quality/water_quality.csv\")\n",
    "\n",
    "df.head()"
   ]
  },
  {
   "cell_type": "code",
   "execution_count": 4,
   "metadata": {
    "colab": {
     "base_uri": "https://localhost:8080/"
    },
    "execution": {
     "iopub.execute_input": "2025-03-02T05:03:24.092849Z",
     "iopub.status.busy": "2025-03-02T05:03:24.092542Z",
     "iopub.status.idle": "2025-03-02T05:03:24.119286Z",
     "shell.execute_reply": "2025-03-02T05:03:24.118603Z",
     "shell.execute_reply.started": "2025-03-02T05:03:24.092825Z"
    },
    "id": "VrOzM7T96uwz",
    "outputId": "b267dce5-0124-4969-c2ad-de88ffccacdb"
   },
   "outputs": [
    {
     "name": "stdout",
     "output_type": "stream",
     "text": [
      "<class 'pandas.core.frame.DataFrame'>\n",
      "RangeIndex: 19029 entries, 0 to 19028\n",
      "Data columns (total 24 columns):\n",
      " #   Column                        Non-Null Count  Dtype  \n",
      "---  ------                        --------------  -----  \n",
      " 0   Well_ID                       15244 non-null  object \n",
      " 1   State                         19029 non-null  object \n",
      " 2   District                      19029 non-null  object \n",
      " 3   Block                         17910 non-null  object \n",
      " 4   Village                       19028 non-null  object \n",
      " 5   Latitude                      18640 non-null  float64\n",
      " 6   Longitude                     18639 non-null  float64\n",
      " 7   Year                          19029 non-null  int64  \n",
      " 8   pH                            19029 non-null  float64\n",
      " 9   EC                            19029 non-null  float64\n",
      " 10  CO3                           19029 non-null  float64\n",
      " 11  HCO3                          19029 non-null  float64\n",
      " 12  Cl                            19029 non-null  float64\n",
      " 13  SO4                           19029 non-null  float64\n",
      " 14  NO3                           19029 non-null  float64\n",
      " 15  TH                            19029 non-null  float64\n",
      " 16  Ca                            19029 non-null  float64\n",
      " 17  Mg                            19029 non-null  float64\n",
      " 18  Na                            19029 non-null  float64\n",
      " 19  K                             19029 non-null  float64\n",
      " 20  F                             19029 non-null  float64\n",
      " 21  TDS                           19029 non-null  int64  \n",
      " 22  WQI                           19029 non-null  float64\n",
      " 23  Water Quality Classification  19029 non-null  object \n",
      "dtypes: float64(16), int64(2), object(6)\n",
      "memory usage: 3.5+ MB\n"
     ]
    }
   ],
   "source": [
    "df.info()"
   ]
  },
  {
   "cell_type": "code",
   "execution_count": 23,
   "metadata": {
    "execution": {
     "iopub.execute_input": "2025-03-02T05:12:27.324092Z",
     "iopub.status.busy": "2025-03-02T05:12:27.323779Z",
     "iopub.status.idle": "2025-03-02T05:12:27.332004Z",
     "shell.execute_reply": "2025-03-02T05:12:27.331116Z",
     "shell.execute_reply.started": "2025-03-02T05:12:27.324070Z"
    }
   },
   "outputs": [
    {
     "data": {
      "text/plain": [
       "Water Quality Classification\n",
       "Unsuitable for Drinking    6078\n",
       "Poor                       5088\n",
       "Very Poor yet Drinkable    4516\n",
       "Good                       1467\n",
       "Excellent                   678\n",
       "Name: count, dtype: int64"
      ]
     },
     "execution_count": 23,
     "metadata": {},
     "output_type": "execute_result"
    }
   ],
   "source": [
    "df[\"Water Quality Classification\"].value_counts()"
   ]
  },
  {
   "cell_type": "code",
   "execution_count": 5,
   "metadata": {
    "colab": {
     "base_uri": "https://localhost:8080/",
     "height": 836
    },
    "execution": {
     "iopub.execute_input": "2025-03-02T05:03:26.711284Z",
     "iopub.status.busy": "2025-03-02T05:03:26.710946Z",
     "iopub.status.idle": "2025-03-02T05:03:26.724450Z",
     "shell.execute_reply": "2025-03-02T05:03:26.723629Z",
     "shell.execute_reply.started": "2025-03-02T05:03:26.711257Z"
    },
    "id": "UUeXlrO263E-",
    "outputId": "e785785f-5f9d-4787-d3f3-53001615dcbe"
   },
   "outputs": [
    {
     "data": {
      "text/plain": [
       "Well_ID                         3785\n",
       "State                              0\n",
       "District                           0\n",
       "Block                           1119\n",
       "Village                            1\n",
       "Latitude                         389\n",
       "Longitude                        390\n",
       "Year                               0\n",
       "pH                                 0\n",
       "EC                                 0\n",
       "CO3                                0\n",
       "HCO3                               0\n",
       "Cl                                 0\n",
       "SO4                                0\n",
       "NO3                                0\n",
       "TH                                 0\n",
       "Ca                                 0\n",
       "Mg                                 0\n",
       "Na                                 0\n",
       "K                                  0\n",
       "F                                  0\n",
       "TDS                                0\n",
       "WQI                                0\n",
       "Water Quality Classification       0\n",
       "dtype: int64"
      ]
     },
     "execution_count": 5,
     "metadata": {},
     "output_type": "execute_result"
    }
   ],
   "source": [
    "df.isna().sum()"
   ]
  },
  {
   "cell_type": "code",
   "execution_count": 6,
   "metadata": {
    "colab": {
     "base_uri": "https://localhost:8080/"
    },
    "execution": {
     "iopub.execute_input": "2025-03-02T05:04:05.391366Z",
     "iopub.status.busy": "2025-03-02T05:04:05.391039Z",
     "iopub.status.idle": "2025-03-02T05:04:10.318545Z",
     "shell.execute_reply": "2025-03-02T05:04:10.317826Z",
     "shell.execute_reply.started": "2025-03-02T05:04:05.391342Z"
    },
    "id": "UEwCJccN9RBK",
    "outputId": "d5841374-1bfa-4267-8ade-fa969d33672d"
   },
   "outputs": [
    {
     "data": {
      "text/plain": [
       "0"
      ]
     },
     "execution_count": 6,
     "metadata": {},
     "output_type": "execute_result"
    }
   ],
   "source": [
    "# Impute missing values in 'Village' using the most frequent village within the same (State, District, Block)\n",
    "\n",
    "# Define a function to get the most frequent village in each group\n",
    "def impute_village(group):\n",
    "    most_frequent_village = group['Village'].mode()\n",
    "    if not most_frequent_village.empty:\n",
    "        group['Village'].fillna(most_frequent_village.iloc[0], inplace=True)\n",
    "    return group\n",
    "\n",
    "# Apply imputation by grouping on State, District, and Block\n",
    "df = df.groupby(['State', 'District', 'Block'], group_keys=False).apply(impute_village)\n",
    "\n",
    "# Check if any missing values remain in the Village column\n",
    "df['Village'].isnull().sum()"
   ]
  },
  {
   "cell_type": "code",
   "execution_count": 7,
   "metadata": {
    "colab": {
     "base_uri": "https://localhost:8080/"
    },
    "execution": {
     "iopub.execute_input": "2025-03-02T05:05:09.052551Z",
     "iopub.status.busy": "2025-03-02T05:05:09.052223Z",
     "iopub.status.idle": "2025-03-02T05:05:09.359409Z",
     "shell.execute_reply": "2025-03-02T05:05:09.358535Z",
     "shell.execute_reply.started": "2025-03-02T05:05:09.052499Z"
    },
    "id": "RHTBz5sa_LB8",
    "outputId": "ed8632da-e29c-4302-ff22-5a63f26ddd31"
   },
   "outputs": [
    {
     "data": {
      "text/plain": [
       "0"
      ]
     },
     "execution_count": 7,
     "metadata": {},
     "output_type": "execute_result"
    }
   ],
   "source": [
    "# Function to impute missing 'Block' values using the most frequent Block within the same State & District\n",
    "def impute_block(group):\n",
    "    most_frequent_block = group['Block'].mode()\n",
    "    if not most_frequent_block.empty:\n",
    "        group['Block'].fillna(most_frequent_block.iloc[0], inplace=True)\n",
    "    return group\n",
    "\n",
    "# Apply imputation by grouping on State & District\n",
    "df = df.groupby(['State', 'District'], group_keys=False).apply(impute_block)\n",
    "\n",
    "# Check if any missing values remain in the Block column\n",
    "df['Block'].isnull().sum()"
   ]
  },
  {
   "cell_type": "code",
   "execution_count": 8,
   "metadata": {
    "colab": {
     "base_uri": "https://localhost:8080/",
     "height": 444
    },
    "execution": {
     "iopub.execute_input": "2025-03-02T05:05:26.469989Z",
     "iopub.status.busy": "2025-03-02T05:05:26.469688Z",
     "iopub.status.idle": "2025-03-02T05:05:26.814927Z",
     "shell.execute_reply": "2025-03-02T05:05:26.814072Z",
     "shell.execute_reply.started": "2025-03-02T05:05:26.469970Z"
    },
    "id": "qsechFu__ZBd",
    "outputId": "c2cf8131-7ed9-4106-e5f3-b9a8c1a5d61b"
   },
   "outputs": [
    {
     "data": {
      "text/plain": [
       "Latitude     78\n",
       "Longitude    78\n",
       "dtype: int64"
      ]
     },
     "execution_count": 8,
     "metadata": {},
     "output_type": "execute_result"
    }
   ],
   "source": [
    "# Function to impute missing Latitude & Longitude using mean values within the same State & District\n",
    "def impute_lat_lon(group):\n",
    "    group['Latitude'].fillna(group['Latitude'].mean(), inplace=True)\n",
    "    group['Longitude'].fillna(group['Longitude'].mean(), inplace=True)\n",
    "    return group\n",
    "\n",
    "# Apply imputation by grouping on State & District\n",
    "df = df.groupby(['State', 'District'], group_keys=False).apply(impute_lat_lon)\n",
    "\n",
    "# Check if any missing values remain in the Latitude & Longitude column\n",
    "df[['Latitude', 'Longitude']].isnull().sum()"
   ]
  },
  {
   "cell_type": "code",
   "execution_count": 9,
   "metadata": {
    "colab": {
     "base_uri": "https://localhost:8080/",
     "height": 146
    },
    "execution": {
     "iopub.execute_input": "2025-03-02T05:05:41.423814Z",
     "iopub.status.busy": "2025-03-02T05:05:41.423467Z",
     "iopub.status.idle": "2025-03-02T05:05:41.437461Z",
     "shell.execute_reply": "2025-03-02T05:05:41.436602Z",
     "shell.execute_reply.started": "2025-03-02T05:05:41.423790Z"
    },
    "id": "g_REhkxy_vW1",
    "outputId": "0addce61-f272-444b-8bab-8ae081b4c0a9"
   },
   "outputs": [
    {
     "data": {
      "text/plain": [
       "Latitude     0\n",
       "Longitude    0\n",
       "dtype: int64"
      ]
     },
     "execution_count": 9,
     "metadata": {},
     "output_type": "execute_result"
    }
   ],
   "source": [
    "# Drop rows where Latitude or Longitude is still missing\n",
    "df = df.dropna(subset=['Latitude', 'Longitude'])\n",
    "\n",
    "# Confirm that no missing values remain in these columns\n",
    "df[['Latitude', 'Longitude']].isnull().sum()\n"
   ]
  },
  {
   "cell_type": "code",
   "execution_count": 10,
   "metadata": {
    "execution": {
     "iopub.execute_input": "2025-03-02T05:06:10.433565Z",
     "iopub.status.busy": "2025-03-02T05:06:10.433212Z",
     "iopub.status.idle": "2025-03-02T05:06:10.439844Z",
     "shell.execute_reply": "2025-03-02T05:06:10.438869Z",
     "shell.execute_reply.started": "2025-03-02T05:06:10.433537Z"
    },
    "id": "l_4rqhdq_zPk"
   },
   "outputs": [],
   "source": [
    "df.drop(columns=['Well_ID'], inplace=True)"
   ]
  },
  {
   "cell_type": "code",
   "execution_count": 11,
   "metadata": {
    "colab": {
     "base_uri": "https://localhost:8080/"
    },
    "execution": {
     "iopub.execute_input": "2025-03-02T05:06:13.481536Z",
     "iopub.status.busy": "2025-03-02T05:06:13.481225Z",
     "iopub.status.idle": "2025-03-02T05:06:13.503427Z",
     "shell.execute_reply": "2025-03-02T05:06:13.502771Z",
     "shell.execute_reply.started": "2025-03-02T05:06:13.481492Z"
    },
    "id": "OlRGlexDAJB_",
    "outputId": "cbb9e929-5cdd-4e14-856f-9723ccef649e"
   },
   "outputs": [
    {
     "data": {
      "text/plain": [
       "5"
      ]
     },
     "execution_count": 11,
     "metadata": {},
     "output_type": "execute_result"
    }
   ],
   "source": [
    "df.duplicated().sum()"
   ]
  },
  {
   "cell_type": "code",
   "execution_count": 12,
   "metadata": {
    "colab": {
     "base_uri": "https://localhost:8080/"
    },
    "execution": {
     "iopub.execute_input": "2025-03-02T05:06:19.087337Z",
     "iopub.status.busy": "2025-03-02T05:06:19.087065Z",
     "iopub.status.idle": "2025-03-02T05:06:19.124420Z",
     "shell.execute_reply": "2025-03-02T05:06:19.123754Z",
     "shell.execute_reply.started": "2025-03-02T05:06:19.087317Z"
    },
    "id": "KVyzgEYhAX-o",
    "outputId": "90937267-c880-48cd-8661-1f660e69da19"
   },
   "outputs": [
    {
     "data": {
      "text/plain": [
       "0"
      ]
     },
     "execution_count": 12,
     "metadata": {},
     "output_type": "execute_result"
    }
   ],
   "source": [
    "# Drop duplicate rows from the dataset\n",
    "df = df.drop_duplicates()\n",
    "\n",
    "# Verify that all duplicates are removed\n",
    "df.duplicated().sum()\n"
   ]
  },
  {
   "cell_type": "code",
   "execution_count": 13,
   "metadata": {
    "execution": {
     "iopub.execute_input": "2025-03-02T05:06:25.621204Z",
     "iopub.status.busy": "2025-03-02T05:06:25.620916Z",
     "iopub.status.idle": "2025-03-02T05:06:25.662300Z",
     "shell.execute_reply": "2025-03-02T05:06:25.661477Z",
     "shell.execute_reply.started": "2025-03-02T05:06:25.621181Z"
    },
    "id": "uJvHLBQq6TW0"
   },
   "outputs": [],
   "source": [
    "# Encode categorical variables\n",
    "categorical_cols = ['State', 'District', 'Block', 'Village']\n",
    "for col in categorical_cols:\n",
    "    le = LabelEncoder()\n",
    "    df[col] = le.fit_transform(df[col])"
   ]
  },
  {
   "cell_type": "code",
   "execution_count": 14,
   "metadata": {
    "execution": {
     "iopub.execute_input": "2025-03-02T05:06:31.909862Z",
     "iopub.status.busy": "2025-03-02T05:06:31.909418Z",
     "iopub.status.idle": "2025-03-02T05:06:31.918015Z",
     "shell.execute_reply": "2025-03-02T05:06:31.917075Z",
     "shell.execute_reply.started": "2025-03-02T05:06:31.909830Z"
    },
    "id": "Iz_EVvVwCQ6_"
   },
   "outputs": [],
   "source": [
    "# Separate features and targets\n",
    "X = df.drop(columns=['WQI', 'Water Quality Classification'])\n",
    "y_reg = df['WQI'].values  # Regression target\n",
    "y_class = df['Water Quality Classification'].astype('category').cat.codes.values  # Classification target"
   ]
  },
  {
   "cell_type": "code",
   "execution_count": 15,
   "metadata": {
    "execution": {
     "iopub.execute_input": "2025-03-02T05:06:35.668193Z",
     "iopub.status.busy": "2025-03-02T05:06:35.667908Z",
     "iopub.status.idle": "2025-03-02T05:06:35.741910Z",
     "shell.execute_reply": "2025-03-02T05:06:35.741252Z",
     "shell.execute_reply.started": "2025-03-02T05:06:35.668171Z"
    },
    "id": "SYuRLQr1CWrc"
   },
   "outputs": [],
   "source": [
    "# Normalize numerical features\n",
    "scaler = StandardScaler()\n",
    "X_scaled = scaler.fit_transform(X)"
   ]
  },
  {
   "cell_type": "code",
   "execution_count": 16,
   "metadata": {
    "colab": {
     "base_uri": "https://localhost:8080/"
    },
    "execution": {
     "iopub.execute_input": "2025-03-02T05:06:47.418392Z",
     "iopub.status.busy": "2025-03-02T05:06:47.418005Z",
     "iopub.status.idle": "2025-03-02T05:06:47.432106Z",
     "shell.execute_reply": "2025-03-02T05:06:47.431400Z",
     "shell.execute_reply.started": "2025-03-02T05:06:47.418364Z"
    },
    "id": "RMWhsZtcCacz",
    "outputId": "8dd2e723-4c47-4f3e-8634-cab388934162"
   },
   "outputs": [
    {
     "name": "stdout",
     "output_type": "stream",
     "text": [
      "Training set size: 13636\n",
      "Validation set size: 1516\n",
      "Test set size: 2675\n"
     ]
    }
   ],
   "source": [
    "# Train-test split\n",
    "X_train, X_test, y_reg_train, y_reg_test, y_class_train, y_class_test = train_test_split(\n",
    "    X_scaled, y_reg, y_class, test_size=0.15, random_state=42)\n",
    "\n",
    "X_train, X_val, y_reg_train, y_reg_val, y_class_train, y_class_val = train_test_split(\n",
    "    X_train, y_reg_train, y_class_train, test_size=0.1, random_state=42\n",
    ")\n",
    "\n",
    "print(\"Training set size:\", len(X_train))\n",
    "print(\"Validation set size:\", len(X_val))\n",
    "print(\"Test set size:\", len(X_test))"
   ]
  },
  {
   "cell_type": "code",
   "execution_count": 17,
   "metadata": {
    "execution": {
     "iopub.execute_input": "2025-03-02T05:06:59.998059Z",
     "iopub.status.busy": "2025-03-02T05:06:59.997771Z",
     "iopub.status.idle": "2025-03-02T05:07:00.254647Z",
     "shell.execute_reply": "2025-03-02T05:07:00.253588Z",
     "shell.execute_reply.started": "2025-03-02T05:06:59.998039Z"
    },
    "id": "BXzeBsCICdgd"
   },
   "outputs": [],
   "source": [
    "# Convert to PyTorch tensors\n",
    "device = torch.device(\"cuda\" if torch.cuda.is_available() else \"cpu\")\n",
    "X_train_tensor = torch.tensor(X_train, dtype=torch.float32).to(device)\n",
    "X_test_tensor = torch.tensor(X_test, dtype=torch.float32).to(device)\n",
    "X_val_tensor = torch.tensor(X_val, dtype=torch.float32).to(device)\n",
    "y_reg_train_tensor = torch.tensor(y_reg_train, dtype=torch.float32).to(device)\n",
    "y_reg_test_tensor = torch.tensor(y_reg_test, dtype=torch.float32).to(device)\n",
    "y_reg_val_tensor = torch.tensor(y_reg_val, dtype=torch.float32).to(device)\n",
    "y_class_train_tensor = torch.tensor(y_class_train, dtype=torch.long).to(device)\n",
    "y_class_test_tensor = torch.tensor(y_class_test, dtype=torch.long).to(device)\n",
    "y_class_val_tensor = torch.tensor(y_class_val, dtype=torch.long).to(device)"
   ]
  },
  {
   "cell_type": "code",
   "execution_count": 20,
   "metadata": {
    "execution": {
     "iopub.execute_input": "2025-03-02T05:08:59.850388Z",
     "iopub.status.busy": "2025-03-02T05:08:59.850050Z",
     "iopub.status.idle": "2025-03-02T05:08:59.860265Z",
     "shell.execute_reply": "2025-03-02T05:08:59.859608Z",
     "shell.execute_reply.started": "2025-03-02T05:08:59.850359Z"
    },
    "id": "iDwawaVHCgED"
   },
   "outputs": [],
   "source": [
    "# Custom Dataset class\n",
    "class WaterQualityDataset(Dataset):\n",
    "    def __init__(self, X, y_reg, y_class):\n",
    "        self.X = X\n",
    "        self.y_reg = y_reg\n",
    "        self.y_class = y_class\n",
    "\n",
    "    def __len__(self):\n",
    "        return len(self.X)\n",
    "\n",
    "    def __getitem__(self, idx):\n",
    "        return self.X[idx], self.y_reg[idx], self.y_class[idx]\n",
    "\n",
    "# Create DataLoader\n",
    "batch_size = 32\n",
    "train_dataset = WaterQualityDataset(X_train_tensor, y_reg_train_tensor, y_class_train_tensor)\n",
    "test_dataset = WaterQualityDataset(X_test_tensor, y_reg_test_tensor, y_class_test_tensor)\n",
    "val_dataset = WaterQualityDataset(X_val_tensor, y_reg_val_tensor, y_class_val_tensor)\n",
    "train_loader = DataLoader(train_dataset, batch_size=batch_size, shuffle=True)\n",
    "test_loader = DataLoader(test_dataset, batch_size=batch_size, shuffle=False)\n",
    "val_loader = DataLoader(val_dataset, batch_size=batch_size, shuffle=False)\n",
    "\n",
    "# Define the Multi-Task Learning Model\n",
    "class MultiTaskNN(nn.Module):\n",
    "    def __init__(self, input_dim, num_classes):\n",
    "        super(MultiTaskNN, self).__init__()\n",
    "\n",
    "        self.shared_layers = nn.Sequential(\n",
    "            nn.Linear(input_dim, 128),\n",
    "            nn.ReLU(),\n",
    "            nn.Linear(128, 64),\n",
    "            nn.ReLU()\n",
    "        )\n",
    "\n",
    "        # Regression Head\n",
    "        self.regression_head = nn.Linear(64, 1)\n",
    "\n",
    "        # Classification Head\n",
    "        self.classification_head = nn.Linear(64, num_classes)\n",
    "\n",
    "    def forward(self, x):\n",
    "        shared_out = self.shared_layers(x)\n",
    "        reg_out = self.regression_head(shared_out)  # WQI prediction\n",
    "        class_out = self.classification_head(shared_out)  # Classification\n",
    "        return reg_out, class_out\n",
    "\n",
    "# Initialize model\n",
    "input_dim = X_train.shape[1]\n",
    "num_classes = len(np.unique(y_class))\n",
    "model = MultiTaskNN(input_dim, num_classes).to(device)\n",
    "\n",
    "# Define loss functions and optimizer\n",
    "criterion_reg = nn.MSELoss()\n",
    "criterion_class = nn.CrossEntropyLoss()\n",
    "optimizer = optim.Adam(model.parameters(), lr=0.001)"
   ]
  },
  {
   "cell_type": "code",
   "execution_count": 21,
   "metadata": {
    "colab": {
     "base_uri": "https://localhost:8080/"
    },
    "execution": {
     "iopub.execute_input": "2025-03-02T05:09:04.328311Z",
     "iopub.status.busy": "2025-03-02T05:09:04.327995Z",
     "iopub.status.idle": "2025-03-02T05:09:50.411150Z",
     "shell.execute_reply": "2025-03-02T05:09:50.410295Z",
     "shell.execute_reply.started": "2025-03-02T05:09:04.328283Z"
    },
    "id": "AvGWR2NpClIp",
    "outputId": "44f3901b-65ba-45c9-c13d-13cdae2114cb"
   },
   "outputs": [
    {
     "name": "stdout",
     "output_type": "stream",
     "text": [
      "Epoch [1/50] - Train Loss: 76795.4505 (Reg: 76794.2765, Class: 1.1745) | Val Loss: 5150.2386 (Reg: 5149.3799, Class: 0.8586)\n",
      "Epoch [2/50] - Train Loss: 5738.5802 (Reg: 5737.7707, Class: 0.8095) | Val Loss: 1935.2676 (Reg: 1934.4738, Class: 0.7938)\n",
      "Epoch [3/50] - Train Loss: 2585.2578 (Reg: 2584.5317, Class: 0.7261) | Val Loss: 794.7574 (Reg: 794.1164, Class: 0.6410)\n",
      "Epoch [4/50] - Train Loss: 1270.8162 (Reg: 1270.1996, Class: 0.6166) | Val Loss: 462.3819 (Reg: 461.8054, Class: 0.5765)\n",
      "Epoch [5/50] - Train Loss: 602.8144 (Reg: 602.2536, Class: 0.5608) | Val Loss: 263.1779 (Reg: 262.6190, Class: 0.5588)\n",
      "Epoch [6/50] - Train Loss: 275.9567 (Reg: 275.3734, Class: 0.5833) | Val Loss: 163.5990 (Reg: 163.0826, Class: 0.5164)\n",
      "Epoch [7/50] - Train Loss: 156.0939 (Reg: 155.5371, Class: 0.5568) | Val Loss: 103.3373 (Reg: 102.7999, Class: 0.5374)\n",
      "Epoch [8/50] - Train Loss: 99.1106 (Reg: 98.5598, Class: 0.5508) | Val Loss: 73.5378 (Reg: 73.0428, Class: 0.4949)\n",
      "Epoch [9/50] - Train Loss: 62.9108 (Reg: 62.3796, Class: 0.5312) | Val Loss: 49.6497 (Reg: 49.1588, Class: 0.4909)\n",
      "Epoch [10/50] - Train Loss: 51.5568 (Reg: 51.0412, Class: 0.5156) | Val Loss: 40.3916 (Reg: 39.9399, Class: 0.4517)\n",
      "Epoch [11/50] - Train Loss: 35.2658 (Reg: 34.7681, Class: 0.4977) | Val Loss: 27.4164 (Reg: 26.9753, Class: 0.4411)\n",
      "Epoch [12/50] - Train Loss: 27.6581 (Reg: 27.1747, Class: 0.4834) | Val Loss: 19.8636 (Reg: 19.4348, Class: 0.4288)\n",
      "Epoch [13/50] - Train Loss: 39.9285 (Reg: 39.4476, Class: 0.4809) | Val Loss: 26.0171 (Reg: 25.6089, Class: 0.4082)\n",
      "Epoch [14/50] - Train Loss: 19.7758 (Reg: 19.3146, Class: 0.4612) | Val Loss: 13.6511 (Reg: 13.2241, Class: 0.4270)\n",
      "Epoch [15/50] - Train Loss: 12.3417 (Reg: 11.8839, Class: 0.4579) | Val Loss: 12.0684 (Reg: 11.5979, Class: 0.4705)\n",
      "Epoch [16/50] - Train Loss: 12.2482 (Reg: 11.7944, Class: 0.4537) | Val Loss: 42.0234 (Reg: 41.5578, Class: 0.4656)\n",
      "Epoch [17/50] - Train Loss: 73.2155 (Reg: 72.7315, Class: 0.4840) | Val Loss: 13.1793 (Reg: 12.7507, Class: 0.4286)\n",
      "Epoch [18/50] - Train Loss: 55.5514 (Reg: 55.1094, Class: 0.4420) | Val Loss: 7.8502 (Reg: 7.4156, Class: 0.4347)\n",
      "Epoch [19/50] - Train Loss: 22.4152 (Reg: 21.9770, Class: 0.4382) | Val Loss: 5.9930 (Reg: 5.5998, Class: 0.3932)\n",
      "Epoch [20/50] - Train Loss: 92.2281 (Reg: 91.7721, Class: 0.4559) | Val Loss: 15.1250 (Reg: 14.7119, Class: 0.4131)\n",
      "Epoch [21/50] - Train Loss: 44.6099 (Reg: 44.1752, Class: 0.4347) | Val Loss: 17.3703 (Reg: 16.9583, Class: 0.4120)\n",
      "Epoch [22/50] - Train Loss: 11.9622 (Reg: 11.5353, Class: 0.4269) | Val Loss: 4.3443 (Reg: 3.9120, Class: 0.4323)\n",
      "Epoch [23/50] - Train Loss: 7.7874 (Reg: 7.3768, Class: 0.4106) | Val Loss: 3.9515 (Reg: 3.5353, Class: 0.4161)\n",
      "Epoch [24/50] - Train Loss: 8.3525 (Reg: 7.9429, Class: 0.4096) | Val Loss: 4.9913 (Reg: 4.6139, Class: 0.3773)\n",
      "Epoch [25/50] - Train Loss: 22.6039 (Reg: 22.1971, Class: 0.4068) | Val Loss: 4.4809 (Reg: 4.0883, Class: 0.3927)\n",
      "Epoch [26/50] - Train Loss: 70.7054 (Reg: 70.2985, Class: 0.4068) | Val Loss: 88.9451 (Reg: 88.4397, Class: 0.5054)\n",
      "Epoch [27/50] - Train Loss: 49.3907 (Reg: 48.9747, Class: 0.4160) | Val Loss: 3.8603 (Reg: 3.4881, Class: 0.3723)\n",
      "Epoch [28/50] - Train Loss: 12.3627 (Reg: 11.9668, Class: 0.3959) | Val Loss: 3.2294 (Reg: 2.8570, Class: 0.3724)\n",
      "Epoch [29/50] - Train Loss: 8.9944 (Reg: 8.6143, Class: 0.3801) | Val Loss: 4.3531 (Reg: 3.9751, Class: 0.3781)\n",
      "Epoch [30/50] - Train Loss: 9.3858 (Reg: 9.0161, Class: 0.3697) | Val Loss: 2.7843 (Reg: 2.4455, Class: 0.3388)\n",
      "Epoch [31/50] - Train Loss: 12.0554 (Reg: 11.6923, Class: 0.3630) | Val Loss: 4.4241 (Reg: 4.0996, Class: 0.3245)\n",
      "Epoch [32/50] - Train Loss: 42.5134 (Reg: 42.1626, Class: 0.3508) | Val Loss: 120.2549 (Reg: 119.8534, Class: 0.4015)\n",
      "Epoch [33/50] - Train Loss: 97.9934 (Reg: 97.5972, Class: 0.3962) | Val Loss: 3.7611 (Reg: 3.4289, Class: 0.3322)\n",
      "Epoch [34/50] - Train Loss: 17.3838 (Reg: 17.0199, Class: 0.3639) | Val Loss: 2.3422 (Reg: 1.9930, Class: 0.3492)\n",
      "Epoch [35/50] - Train Loss: 10.8819 (Reg: 10.5299, Class: 0.3520) | Val Loss: 2.1873 (Reg: 1.8755, Class: 0.3118)\n",
      "Epoch [36/50] - Train Loss: 13.1041 (Reg: 12.7581, Class: 0.3459) | Val Loss: 2.6179 (Reg: 2.3210, Class: 0.2969)\n",
      "Epoch [37/50] - Train Loss: 16.9265 (Reg: 16.5991, Class: 0.3275) | Val Loss: 6.1535 (Reg: 5.8182, Class: 0.3353)\n",
      "Epoch [38/50] - Train Loss: 38.9629 (Reg: 38.6217, Class: 0.3412) | Val Loss: 2.0909 (Reg: 1.7775, Class: 0.3134)\n",
      "Epoch [39/50] - Train Loss: 57.4803 (Reg: 57.1457, Class: 0.3346) | Val Loss: 2.6605 (Reg: 2.3504, Class: 0.3101)\n",
      "Epoch [40/50] - Train Loss: 9.4709 (Reg: 9.1611, Class: 0.3098) | Val Loss: 2.1747 (Reg: 1.9076, Class: 0.2671)\n",
      "Epoch [41/50] - Train Loss: 5.8453 (Reg: 5.5536, Class: 0.2917) | Val Loss: 9.4266 (Reg: 9.1511, Class: 0.2756)\n",
      "Epoch [42/50] - Train Loss: 10.5106 (Reg: 10.2281, Class: 0.2826) | Val Loss: 11.1230 (Reg: 10.8593, Class: 0.2636)\n",
      "Epoch [43/50] - Train Loss: 23.7358 (Reg: 23.4547, Class: 0.2811) | Val Loss: 12.3227 (Reg: 12.0603, Class: 0.2624)\n",
      "Epoch [44/50] - Train Loss: 54.7714 (Reg: 54.4963, Class: 0.2751) | Val Loss: 26.3116 (Reg: 26.0414, Class: 0.2702)\n",
      "Epoch [45/50] - Train Loss: 11.2969 (Reg: 11.0325, Class: 0.2644) | Val Loss: 1.9458 (Reg: 1.7090, Class: 0.2367)\n",
      "Epoch [46/50] - Train Loss: 7.3024 (Reg: 7.0629, Class: 0.2394) | Val Loss: 1.3199 (Reg: 1.0944, Class: 0.2255)\n",
      "Epoch [47/50] - Train Loss: 4.1297 (Reg: 3.8972, Class: 0.2325) | Val Loss: 1.5251 (Reg: 1.2460, Class: 0.2791)\n",
      "Epoch [48/50] - Train Loss: 4.3648 (Reg: 4.1362, Class: 0.2286) | Val Loss: 1.3267 (Reg: 1.1215, Class: 0.2052)\n",
      "Epoch [49/50] - Train Loss: 6.3526 (Reg: 6.1390, Class: 0.2137) | Val Loss: 14.8867 (Reg: 14.6470, Class: 0.2397)\n",
      "Epoch [50/50] - Train Loss: 77.3622 (Reg: 77.1150, Class: 0.2473) | Val Loss: 8.8522 (Reg: 8.5338, Class: 0.3184)\n",
      "\n",
      "-----------------------------------------------------\n",
      "\n",
      "\n",
      "Final Validation Results After Training:\n",
      "Best Validation R² Score: 1.0000\n",
      "Best Validation Accuracy: 0.9116\n",
      "Best Validation F1 Score: 0.9118\n"
     ]
    },
    {
     "data": {
      "text/plain": [
       "<All keys matched successfully>"
      ]
     },
     "execution_count": 21,
     "metadata": {},
     "output_type": "execute_result"
    }
   ],
   "source": [
    "# Training loop\n",
    "\n",
    "epochs = 50\n",
    "best_val_loss = float('inf')\n",
    "best_val_accuracy = 0\n",
    "best_val_f1 = 0\n",
    "best_val_r2 = float('-inf')\n",
    "\n",
    "val_accuracies = []\n",
    "val_f1_scores = []\n",
    "val_r2_scores = []\n",
    "\n",
    "for epoch in range(epochs):\n",
    "    model.train()\n",
    "    total_loss, total_reg_loss, total_class_loss = 0, 0, 0\n",
    "\n",
    "    for X_batch, y_reg_batch, y_class_batch in train_loader:\n",
    "        optimizer.zero_grad()\n",
    "\n",
    "        reg_pred, class_pred = model(X_batch)\n",
    "\n",
    "        loss_reg = criterion_reg(reg_pred.squeeze(), y_reg_batch)\n",
    "        loss_class = criterion_class(class_pred, y_class_batch)\n",
    "        loss = loss_reg + loss_class  # Combined loss\n",
    "\n",
    "        loss.backward()\n",
    "        optimizer.step()\n",
    "\n",
    "        total_loss += loss.item()\n",
    "        total_reg_loss += loss_reg.item()\n",
    "        total_class_loss += loss_class.item()\n",
    "\n",
    "    # Compute average training loss\n",
    "    avg_train_loss = total_loss / len(train_loader)\n",
    "    avg_reg_loss = total_reg_loss / len(train_loader)\n",
    "    avg_class_loss = total_class_loss / len(train_loader)\n",
    "\n",
    "    # Validation Phase\n",
    "    model.eval()\n",
    "    val_loss, val_reg_loss, val_class_loss = 0, 0, 0\n",
    "    y_reg_preds, y_class_preds = [], []\n",
    "    y_reg_true, y_class_true = [], []\n",
    "\n",
    "    with torch.no_grad():\n",
    "        for X_batch, y_reg_batch, y_class_batch in val_loader:\n",
    "            reg_pred, class_pred = model(X_batch)\n",
    "\n",
    "            loss_reg = criterion_reg(reg_pred.squeeze(), y_reg_batch)\n",
    "            loss_class = criterion_class(class_pred, y_class_batch)\n",
    "            loss = loss_reg + loss_class  # Combined loss\n",
    "\n",
    "            val_loss += loss.item()\n",
    "            val_reg_loss += loss_reg.item()\n",
    "            val_class_loss += loss_class.item()\n",
    "\n",
    "            y_reg_preds.extend(reg_pred.cpu().numpy())\n",
    "            y_class_preds.extend(torch.argmax(class_pred, dim=1).cpu().numpy())\n",
    "            y_reg_true.extend(y_reg_batch.cpu().numpy())\n",
    "            y_class_true.extend(y_class_batch.cpu().numpy())\n",
    "\n",
    "    # Compute average validation loss\n",
    "    avg_val_loss = val_loss / len(val_loader)\n",
    "    avg_val_reg_loss = val_reg_loss / len(val_loader)\n",
    "    avg_val_class_loss = val_class_loss / len(val_loader)\n",
    "\n",
    "    # Compute validation metrics\n",
    "    y_reg_preds = np.array(y_reg_preds).flatten()\n",
    "    y_class_preds = np.array(y_class_preds)\n",
    "    val_r2 = r2_score(y_reg_true, y_reg_preds)\n",
    "    val_accuracy = accuracy_score(y_class_true, y_class_preds)\n",
    "    val_f1 = f1_score(y_class_true, y_class_preds, average='weighted')\n",
    "\n",
    "    # Store validation accuracy and F1 score for final print\n",
    "    val_accuracies.append(val_accuracy)\n",
    "    val_f1_scores.append(val_f1)\n",
    "    val_r2_scores.append(val_r2)\n",
    "\n",
    "    # Save best model based on validation loss\n",
    "    if avg_val_loss < best_val_loss:\n",
    "        best_val_loss = avg_val_loss\n",
    "        best_val_r2 = val_r2\n",
    "        best_val_accuracy = val_accuracy\n",
    "        best_val_f1 = val_f1\n",
    "        torch.save(model.state_dict(), \"best_model.pth\")\n",
    "\n",
    "    print(f\"Epoch [{epoch+1}/{epochs}] - \"\n",
    "          f\"Train Loss: {avg_train_loss:.4f} (Reg: {avg_reg_loss:.4f}, Class: {avg_class_loss:.4f}) | \"\n",
    "          f\"Val Loss: {avg_val_loss:.4f} (Reg: {avg_val_reg_loss:.4f}, Class: {avg_val_class_loss:.4f})\")\n",
    "\n",
    "print(\"\\n-----------------------------------------------------\\n\")\n",
    "\n",
    "# Print final r2, validation accuracy and F1 score\n",
    "print(\"\\nFinal Validation Results:\")\n",
    "print(f\"Best Validation R² Score: {best_val_r2:.4f}\")\n",
    "print(f\"Best Validation Accuracy: {best_val_accuracy:.4f}\")\n",
    "print(f\"Best Validation F1 Score: {best_val_f1:.4f}\")\n",
    "\n",
    "# Load best model for final test evaluation\n",
    "model.load_state_dict(torch.load(\"best_model.pth\"))\n"
   ]
  },
  {
   "cell_type": "code",
   "execution_count": 22,
   "metadata": {
    "colab": {
     "base_uri": "https://localhost:8080/"
    },
    "execution": {
     "iopub.execute_input": "2025-03-02T05:10:03.845128Z",
     "iopub.status.busy": "2025-03-02T05:10:03.844843Z",
     "iopub.status.idle": "2025-03-02T05:10:03.932309Z",
     "shell.execute_reply": "2025-03-02T05:10:03.931580Z",
     "shell.execute_reply.started": "2025-03-02T05:10:03.845107Z"
    },
    "id": "dy4oYo4_Kg-k",
    "outputId": "260fea54-e63a-4a99-88d3-8841b2b79091"
   },
   "outputs": [
    {
     "name": "stdout",
     "output_type": "stream",
     "text": [
      "Final Test Results:\n",
      "Regression R² Score: 1.0000\n",
      "Classification Accuracy: 0.9163\n",
      "Classification F1 Score: 0.9163\n"
     ]
    }
   ],
   "source": [
    "# Final Test Evaluation\n",
    "model.eval()\n",
    "y_reg_preds, y_class_preds = [], []\n",
    "y_reg_true, y_class_true = [], []\n",
    "\n",
    "with torch.no_grad():\n",
    "    for X_batch, y_reg_batch, y_class_batch in test_loader:\n",
    "        reg_pred, class_pred = model(X_batch)\n",
    "\n",
    "        y_reg_preds.extend(reg_pred.cpu().numpy())\n",
    "        y_class_preds.extend(torch.argmax(class_pred, dim=1).cpu().numpy())\n",
    "        y_reg_true.extend(y_reg_batch.cpu().numpy())\n",
    "        y_class_true.extend(y_class_batch.cpu().numpy())\n",
    "\n",
    "# Convert predictions to numpy arrays\n",
    "y_reg_preds = np.array(y_reg_preds).flatten()\n",
    "y_class_preds = np.array(y_class_preds)\n",
    "\n",
    "# Compute test metrics\n",
    "test_r2 = r2_score(y_reg_true, y_reg_preds)\n",
    "test_accuracy = accuracy_score(y_class_true, y_class_preds)\n",
    "test_f1 = f1_score(y_class_true, y_class_preds, average='weighted')\n",
    "\n",
    "print(f\"Final Test Results:\\n\"\n",
    "      f\"Regression R² Score: {test_r2:.4f}\\n\"\n",
    "      f\"Classification Accuracy: {test_accuracy:.4f}\\n\"\n",
    "      f\"Classification F1 Score: {test_f1:.4f}\")"
   ]
  },
  {
   "cell_type": "code",
   "execution_count": null,
   "metadata": {},
   "outputs": [
    {
     "data": {
      "image/png": "[encoded data removed]",
      "text/plain": [
       "<Figure size 800x500 with 1 Axes>"
      ]
     },
     "metadata": {},
     "output_type": "display_data"
    }
   ],
   "source": [
    "# Class Distribution Bar Chart\n",
    "plt.figure(figsize=(8, 5))\n",
    "unique_classes, class_counts = np.unique(y_class_true, return_counts=True)\n",
    "sns.barplot(x=unique_classes, y=class_counts, palette='viridis')\n",
    "plt.xlabel(\"Water Quality Category\")\n",
    "plt.ylabel(\"Count\")\n",
    "plt.title(\"Class Distribution in Dataset\")\n",
    "plt.xticks(rotation=45)\n",
    "plt.show()"
   ]
  },
  {
   "cell_type": "code",
   "execution_count": 26,
   "metadata": {
    "execution": {
     "iopub.execute_input": "2025-03-02T05:19:11.643657Z",
     "iopub.status.busy": "2025-03-02T05:19:11.643308Z",
     "iopub.status.idle": "2025-03-02T05:19:11.958924Z",
     "shell.execute_reply": "2025-03-02T05:19:11.958080Z",
     "shell.execute_reply.started": "2025-03-02T05:19:11.643630Z"
    }
   },
   "outputs": [
    {
     "data": {
      "image/png": "[encoded data removed]",
      "text/plain": [
       "<Figure size 800x600 with 2 Axes>"
      ]
     },
     "metadata": {},
     "output_type": "display_data"
    }
   ],
   "source": [
    "conf_matrix = confusion_matrix(y_class_true, y_class_preds)\n",
    "plt.figure(figsize=(8, 6))\n",
    "sns.heatmap(conf_matrix, annot=True, fmt='d', cmap='Blues')\n",
    "plt.xlabel(\"Predicted Label\")\n",
    "plt.ylabel(\"True Label\")\n",
    "plt.title(\"Confusion Matrix\")\n",
    "plt.show()"
   ]
  },
  {
   "cell_type": "code",
   "execution_count": 27,
   "metadata": {
    "execution": {
     "iopub.execute_input": "2025-03-02T05:20:48.097355Z",
     "iopub.status.busy": "2025-03-02T05:20:48.097033Z",
     "iopub.status.idle": "2025-03-02T05:20:48.353812Z",
     "shell.execute_reply": "2025-03-02T05:20:48.352878Z",
     "shell.execute_reply.started": "2025-03-02T05:20:48.097332Z"
    }
   },
   "outputs": [
    {
     "data": {
      "image/png": "[encoded data removed]",
      "text/plain": [
       "<Figure size 800x500 with 2 Axes>"
      ]
     },
     "metadata": {},
     "output_type": "display_data"
    }
   ],
   "source": [
    "# Classification Report Heatmap\n",
    "class_report = classification_report(y_class_true, y_class_preds, output_dict=True)\n",
    "report_df = pd.DataFrame(class_report).iloc[:-1, :].T\n",
    "plt.figure(figsize=(8, 5))\n",
    "sns.heatmap(report_df, annot=True, cmap='coolwarm', fmt='.2f')\n",
    "plt.title(\"Classification Report Heatmap\")\n",
    "plt.show()"
   ]
  },
  {
   "cell_type": "code",
   "execution_count": 28,
   "metadata": {
    "execution": {
     "iopub.execute_input": "2025-03-02T05:21:20.081413Z",
     "iopub.status.busy": "2025-03-02T05:21:20.081072Z",
     "iopub.status.idle": "2025-03-02T05:21:20.314255Z",
     "shell.execute_reply": "2025-03-02T05:21:20.313342Z",
     "shell.execute_reply.started": "2025-03-02T05:21:20.081385Z"
    }
   },
   "outputs": [
    {
     "data": {
      "image/png": "[encoded data removed]",
      "text/plain": [
       "<Figure size 800x500 with 1 Axes>"
      ]
     },
     "metadata": {},
     "output_type": "display_data"
    }
   ],
   "source": [
    "# Regression Residual Analysis\n",
    "residuals = np.array(y_reg_true) - np.array(y_reg_preds)\n",
    "\n",
    "# Histogram of Residuals\n",
    "plt.figure(figsize=(8, 5))\n",
    "sns.histplot(residuals, bins=30, kde=True, color='blue')\n",
    "plt.xlabel(\"Residual (True - Predicted)\")\n",
    "plt.ylabel(\"Frequency\")\n",
    "plt.title(\"Residual Distribution (Regression)\")\n",
    "plt.show()"
   ]
  },
  {
   "cell_type": "code",
   "execution_count": 29,
   "metadata": {
    "execution": {
     "iopub.execute_input": "2025-03-02T05:21:35.217645Z",
     "iopub.status.busy": "2025-03-02T05:21:35.217298Z",
     "iopub.status.idle": "2025-03-02T05:21:35.400836Z",
     "shell.execute_reply": "2025-03-02T05:21:35.399945Z",
     "shell.execute_reply.started": "2025-03-02T05:21:35.217621Z"
    }
   },
   "outputs": [
    {
     "data": {
      "image/png": "[encoded data removed]",
      "text/plain": [
       "<Figure size 800x500 with 1 Axes>"
      ]
     },
     "metadata": {},
     "output_type": "display_data"
    }
   ],
   "source": [
    "# Scatter Plot of Residuals\n",
    "plt.figure(figsize=(8, 5))\n",
    "plt.scatter(y_reg_preds, residuals, alpha=0.5, color='red')\n",
    "plt.axhline(y=0, color='black', linestyle='--')\n",
    "plt.xlabel(\"Predicted Values\")\n",
    "plt.ylabel(\"Residuals\")\n",
    "plt.title(\"Residuals vs. Predicted Values\")\n",
    "plt.show()"
   ]
  }
 ],
 "metadata": {
  "accelerator": "GPU",
  "colab": {
   "gpuType": "T4",
   "provenance": []
  },
  "kaggle": {
   "accelerator": "gpu",
   "dataSources": [
    {
     "datasetId": 6770111,
     "sourceId": 10893898,
     "sourceType": "datasetVersion"
    }
   ],
   "dockerImageVersionId": 30919,
   "isGpuEnabled": true,
   "isInternetEnabled": true,
   "language": "python",
   "sourceType": "notebook"
  },
  "kernelspec": {
   "display_name": "venv",
   "language": "python",
   "name": "python3"
  },
  "language_info": {
   "codemirror_mode": {
    "name": "ipython",
    "version": 3
   },
   "file_extension": ".py",
   "mimetype": "text/x-python",
   "name": "python",
   "nbconvert_exporter": "python",
   "pygments_lexer": "ipython3",
   "version": "3.12.4"
  }
 },
 "nbformat": 4,
 "nbformat_minor": 4
}
